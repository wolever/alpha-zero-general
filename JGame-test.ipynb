{
 "cells": [
  {
   "cell_type": "code",
   "execution_count": 13,
   "metadata": {},
   "outputs": [],
   "source": [
    "%load_ext autoreload\n",
    "%autoreload 2"
   ]
  },
  {
   "cell_type": "code",
   "execution_count": 12,
   "metadata": {},
   "outputs": [
    {
     "data": {
      "text/plain": [
       "[42, 33]"
      ]
     },
     "execution_count": 12,
     "metadata": {},
     "output_type": "execute_result"
    }
   ],
   "source": [
    "import JGGame\n",
    "\n",
    "board_arr = [  0,  0,  0,  0,  0,  0,  0,  0,  0,  0,  0,  0,  0,  0,  0,  0,  0,\n",
    "        0,  0,  0,  0,  0,  0,  0,  0, -5,  0,  0,  0, -1,  0,  0,  0, -5,\n",
    "       18,  0,  0,  0,  0,  0,  0,  0, -1,  0,  0, -1,  0,  0,  0,  0,  0,\n",
    "        0,  0,  0,  0, -2,  0,  0,  0, -2, -1,  0,  0]\n",
    "\n",
    "JGGame.flood_fill(board_arr, 0, 34, 10)"
   ]
  },
  {
   "cell_type": "code",
   "execution_count": 7,
   "metadata": {},
   "outputs": [
    {
     "data": {
      "text/plain": [
       "(4, 0)"
      ]
     },
     "execution_count": 7,
     "metadata": {},
     "output_type": "execute_result"
    }
   ],
   "source": [
    "JGGame.ix_to_ax[34]"
   ]
  },
  {
   "cell_type": "code",
   "execution_count": 14,
   "metadata": {},
   "outputs": [
    {
     "name": "stdout",
     "output_type": "stream",
     "text": [
      "    _ _ _ _ _ \n",
      "   _ _ _ _ _ _ \n",
      "  _ _ _ _ _ _ _ \n",
      " _ _ _ _ _ _ _ \u001b[34m5\u001b[0m \n",
      "_ _ _ \u001b[34m1\u001b[0m _ _ _ \u001b[34m5\u001b[0m \u001b[31m18\u001b[0m \n",
      " _ _ _ _ _ _ _ \u001b[34m1\u001b[0m \n",
      "  _ _ \u001b[34m1\u001b[0m _ _ _ _ \n",
      "   _ _ _ _ _ \u001b[34m2\u001b[0m \n",
      "    _ _ _ \u001b[34m2\u001b[0m \u001b[34m1\u001b[0m \n",
      "Player 1: 0\n",
      "Player 2: 0\n",
      "Visiting 34: 18\n",
      "Visiting 42: -1\n",
      "Visiting 33: -5\n"
     ]
    },
    {
     "data": {
      "text/plain": [
       "[42, 33]"
      ]
     },
     "execution_count": 14,
     "metadata": {},
     "output_type": "execute_result"
    }
   ],
   "source": [
    "def adjacent_idxs(idx: int, player_idx: int):\n",
    "    q, r = JGGame.ix_to_ax[idx]\n",
    "    adj_coords = [\n",
    "        ((q + 1, r), True),\n",
    "        ((q - 1, r), True),\n",
    "        ((q, r + 1), player_idx == 1),\n",
    "        ((q, r - 1), player_idx == 0),\n",
    "        ((q + 1, r + 1), player_idx == 1),\n",
    "        ((q - 1, r - 1), player_idx == 0),\n",
    "    ]\n",
    "    res = []\n",
    "    for coord, valid in adj_coords:\n",
    "        if not valid:\n",
    "            continue\n",
    "        idx = JGGame.ax_to_ix.get(coord)\n",
    "        if idx is None:\n",
    "            continue\n",
    "        if idx == JGGame.PLAYER_IDX_CITY_IDXS[player_idx]:\n",
    "            continue\n",
    "        res.append(idx)\n",
    "    return res\n",
    "\n",
    "def flood_fill(board, player_idx: int, start_idx: int, count: int):\n",
    "    valid_moves = []\n",
    "    # Players can't move coins into their own city\n",
    "    visited = set([JGGame.PLAYER_IDX_CITY_IDXS[player_idx]])\n",
    "    queue = [(start_idx, count, True)]\n",
    "    while queue:\n",
    "        idx, count, is_first = queue.pop()\n",
    "        if idx in visited:\n",
    "            print(f\"Already visited {idx}\")\n",
    "            continue\n",
    "        visited.add(idx)\n",
    "\n",
    "        print(f\"Visiting {idx}: {board[idx]}\")\n",
    "        if board[idx] <= 0:\n",
    "            # If the tile is empty or owned by the opponent, it's a valid move\n",
    "            valid_moves.append(idx)\n",
    "\n",
    "        # Continue moving if:\n",
    "        # - count > 0, and\n",
    "        # - the current tile is empty\n",
    "        if count > 0 and (is_first or board[idx] == 0):\n",
    "            queue.extend(\n",
    "                (adj_idx, count - 1, False)\n",
    "                for adj_idx in adjacent_idxs(idx, player_idx)\n",
    "                if adj_idx not in visited\n",
    "            )\n",
    "\n",
    "    return valid_moves\n",
    "\n",
    "b = JGGame.Board(board_arr)\n",
    "\n",
    "b.display()\n",
    "\n",
    "flood_fill(board_arr, 0, 34, 10)"
   ]
  },
  {
   "cell_type": "code",
   "execution_count": 8,
   "metadata": {},
   "outputs": [],
   "source": [
    "from utils import dotdict\n",
    "\n",
    "args = dotdict({\n",
    "    'numIters': 1000,\n",
    "    'numEps': 50,              # Number of complete self-play games to simulate during a new iteration.\n",
    "    #'numIters': 1000,\n",
    "    #'numEps': 1,               # Number of complete self-play games to simulate during a new iteration.\n",
    "    'tempThreshold': 15,        #\n",
    "    'updateThreshold': 0.6,     # During arena playoff, new neural net will be accepted if threshold or more of games are won.\n",
    "    'maxlenOfQueue': 200000,    # Number of game examples to train the neural networks.\n",
    "    #'numMCTSSims': 25,          # Number of games moves for MCTS to simulate.\n",
    "    'numMCTSSims': 25,          # Number of games moves for MCTS to simulate.\n",
    "    'arenaCompare':  20,        # Number of games to play during arena play to determine if new net will be accepted.\n",
    "    'cpuct': 1,\n",
    "\n",
    "    'checkpoint': f'./checkpoints-JGGame/',\n",
    "    'load_model': False,\n",
    "    'load_folder_file': 'best.pth.tar',\n",
    "    'numItersForTrainExamplesHistory': 20,\n",
    "\n",
    "})"
   ]
  },
  {
   "cell_type": "code",
   "execution_count": 10,
   "metadata": {},
   "outputs": [],
   "source": [
    "import JGGame\n",
    "from JGNet import NNetWrapper\n",
    "from MCTS import MCTS\n",
    "\n",
    "game = JGGame.JGGame()\n",
    "\n",
    "x = NNetWrapper(game)\n",
    "x.load_checkpoint('./checkpoints-JGGame/best.pth.tar')\n",
    "m = MCTS(game, x, args)"
   ]
  },
  {
   "cell_type": "code",
   "execution_count": 15,
   "metadata": {},
   "outputs": [
    {
     "ename": "AssertionError",
     "evalue": "count: 18",
     "output_type": "error",
     "traceback": [
      "\u001b[31m---------------------------------------------------------------------------\u001b[39m",
      "\u001b[31mAssertionError\u001b[39m                            Traceback (most recent call last)",
      "\u001b[36mCell\u001b[39m\u001b[36m \u001b[39m\u001b[32mIn[15]\u001b[39m\u001b[32m, line 3\u001b[39m\n\u001b[32m      1\u001b[39m \u001b[38;5;28;01mimport\u001b[39;00m \u001b[34;01mnumpy\u001b[39;00m \u001b[38;5;28;01mas\u001b[39;00m \u001b[34;01mnp\u001b[39;00m\n\u001b[32m----> \u001b[39m\u001b[32m3\u001b[39m \u001b[43mm\u001b[49m\u001b[43m.\u001b[49m\u001b[43mgetActionProb\u001b[49m\u001b[43m(\u001b[49m\u001b[43mnp\u001b[49m\u001b[43m.\u001b[49m\u001b[43marray\u001b[49m\u001b[43m(\u001b[49m\u001b[43mboard_arr\u001b[49m\u001b[43m)\u001b[49m\u001b[43m)\u001b[49m\n",
      "\u001b[36mFile \u001b[39m\u001b[32m~/code/jg/engine/ml/alpha-zero-general/MCTS.py:43\u001b[39m, in \u001b[36mMCTS.getActionProb\u001b[39m\u001b[34m(self, canonicalBoard, temp)\u001b[39m\n\u001b[32m     34\u001b[39m \u001b[38;5;250m\u001b[39m\u001b[33;03m\"\"\"\u001b[39;00m\n\u001b[32m     35\u001b[39m \u001b[33;03mThis function performs numMCTSSims simulations of MCTS starting from\u001b[39;00m\n\u001b[32m     36\u001b[39m \u001b[33;03mcanonicalBoard.\u001b[39;00m\n\u001b[32m   (...)\u001b[39m\u001b[32m     40\u001b[39m \u001b[33;03m           proportional to Nsa[(s,a)]**(1./temp)\u001b[39;00m\n\u001b[32m     41\u001b[39m \u001b[33;03m\"\"\"\u001b[39;00m\n\u001b[32m     42\u001b[39m \u001b[38;5;28;01mfor\u001b[39;00m i \u001b[38;5;129;01min\u001b[39;00m \u001b[38;5;28mrange\u001b[39m(\u001b[38;5;28mself\u001b[39m.args.numMCTSSims):\n\u001b[32m---> \u001b[39m\u001b[32m43\u001b[39m     \u001b[38;5;28;43mself\u001b[39;49m\u001b[43m.\u001b[49m\u001b[43msearch\u001b[49m\u001b[43m(\u001b[49m\u001b[43mcanonicalBoard\u001b[49m\u001b[43m)\u001b[49m\n\u001b[32m     45\u001b[39m s = \u001b[38;5;28mself\u001b[39m.game.stringRepresentation(canonicalBoard)\n\u001b[32m     46\u001b[39m counts = [\u001b[38;5;28mself\u001b[39m.Nsa[(s, a)] \u001b[38;5;28;01mif\u001b[39;00m (s, a) \u001b[38;5;129;01min\u001b[39;00m \u001b[38;5;28mself\u001b[39m.Nsa \u001b[38;5;28;01melse\u001b[39;00m \u001b[32m0\u001b[39m \u001b[38;5;28;01mfor\u001b[39;00m a \u001b[38;5;129;01min\u001b[39;00m \u001b[38;5;28mrange\u001b[39m(\u001b[38;5;28mself\u001b[39m.game.getActionSize())]\n",
      "\u001b[36mFile \u001b[39m\u001b[32m~/code/jg/engine/ml/alpha-zero-general/MCTS.py:95\u001b[39m, in \u001b[36mMCTS.search\u001b[39m\u001b[34m(self, canonicalBoard, depth)\u001b[39m\n\u001b[32m     92\u001b[39m \u001b[38;5;28;01mif\u001b[39;00m s \u001b[38;5;129;01mnot\u001b[39;00m \u001b[38;5;129;01min\u001b[39;00m \u001b[38;5;28mself\u001b[39m.Ps:\n\u001b[32m     93\u001b[39m     \u001b[38;5;66;03m# leaf node\u001b[39;00m\n\u001b[32m     94\u001b[39m     \u001b[38;5;28mself\u001b[39m.Ps[s], v = \u001b[38;5;28mself\u001b[39m.nnet.predict(canonicalBoard)\n\u001b[32m---> \u001b[39m\u001b[32m95\u001b[39m     valids = \u001b[38;5;28;43mself\u001b[39;49m\u001b[43m.\u001b[49m\u001b[43mgame\u001b[49m\u001b[43m.\u001b[49m\u001b[43mgetValidMoves\u001b[49m\u001b[43m(\u001b[49m\u001b[43mcanonicalBoard\u001b[49m\u001b[43m,\u001b[49m\u001b[43m \u001b[49m\u001b[32;43m1\u001b[39;49m\u001b[43m)\u001b[49m\n\u001b[32m     96\u001b[39m     \u001b[38;5;28mself\u001b[39m.Ps[s] = \u001b[38;5;28mself\u001b[39m.Ps[s] * valids  \u001b[38;5;66;03m# masking invalid moves\u001b[39;00m\n\u001b[32m     97\u001b[39m     sum_Ps_s = np.sum(\u001b[38;5;28mself\u001b[39m.Ps[s])\n",
      "\u001b[36mFile \u001b[39m\u001b[32m~/code/jg/engine/ml/alpha-zero-general/JGGame.py:369\u001b[39m, in \u001b[36mJGGame.getValidMoves\u001b[39m\u001b[34m(self, board_arr, player)\u001b[39m\n\u001b[32m    367\u001b[39m \u001b[38;5;28;01mdef\u001b[39;00m \u001b[34mgetValidMoves\u001b[39m(\u001b[38;5;28mself\u001b[39m, board_arr: np.ndarray[\u001b[38;5;28mint\u001b[39m, \u001b[38;5;28mint\u001b[39m], player: \u001b[38;5;28mint\u001b[39m) -> np.ndarray[\u001b[38;5;28mbool\u001b[39m]:\n\u001b[32m    368\u001b[39m     \u001b[38;5;28;01mtry\u001b[39;00m:\n\u001b[32m--> \u001b[39m\u001b[32m369\u001b[39m         \u001b[38;5;28;01mreturn\u001b[39;00m \u001b[38;5;28;43mself\u001b[39;49m\u001b[43m.\u001b[49m\u001b[43m_getValidMoves\u001b[49m\u001b[43m(\u001b[49m\u001b[43mboard_arr\u001b[49m\u001b[43m,\u001b[49m\u001b[43m \u001b[49m\u001b[43mplayer\u001b[49m\u001b[43m)\u001b[49m\n\u001b[32m    370\u001b[39m     \u001b[38;5;28;01mexcept\u001b[39;00m GameWin \u001b[38;5;28;01mas\u001b[39;00m e:\n\u001b[32m    371\u001b[39m         \u001b[38;5;66;03m#print(\"Found game win\")\u001b[39;00m\n\u001b[32m    372\u001b[39m         res = np.zeros(\u001b[38;5;28mself\u001b[39m.getActionSize(), dtype=\u001b[38;5;28mbool\u001b[39m)\n",
      "\u001b[36mFile \u001b[39m\u001b[32m~/code/jg/engine/ml/alpha-zero-general/JGGame.py:421\u001b[39m, in \u001b[36mJGGame._getValidMoves\u001b[39m\u001b[34m(self, board_arr, player)\u001b[39m\n\u001b[32m    414\u001b[39m     valid_move_idxs = flood_fill(\n\u001b[32m    415\u001b[39m         board.arr,\n\u001b[32m    416\u001b[39m         _player_idx[player],\n\u001b[32m    417\u001b[39m         src_idx,\n\u001b[32m    418\u001b[39m         move_coin_count,\n\u001b[32m    419\u001b[39m     )\n\u001b[32m    420\u001b[39m     \u001b[38;5;28;01mfor\u001b[39;00m dst_idx \u001b[38;5;129;01min\u001b[39;00m valid_move_idxs:\n\u001b[32m--> \u001b[39m\u001b[32m421\u001b[39m         \u001b[43madd_action\u001b[49m\u001b[43m(\u001b[49m\n\u001b[32m    422\u001b[39m \u001b[43m            \u001b[49m\u001b[38;5;28;43;01mFalse\u001b[39;49;00m\u001b[43m,\u001b[49m\n\u001b[32m    423\u001b[39m \u001b[43m            \u001b[49m\u001b[43msrc_idx_player\u001b[49m\u001b[43m,\u001b[49m\n\u001b[32m    424\u001b[39m \u001b[43m            \u001b[49m\u001b[43mdst_idx\u001b[49m\u001b[43m,\u001b[49m\n\u001b[32m    425\u001b[39m \u001b[43m            \u001b[49m\u001b[43mmove_coin_count\u001b[49m\u001b[43m,\u001b[49m\n\u001b[32m    426\u001b[39m \u001b[43m        \u001b[49m\u001b[43m)\u001b[49m\n\u001b[32m    428\u001b[39m \u001b[38;5;66;03m# 2. Splits\u001b[39;00m\n\u001b[32m    429\u001b[39m \u001b[38;5;28;01mfor\u001b[39;00m src_idx_player, src_idx \u001b[38;5;129;01min\u001b[39;00m \u001b[38;5;28menumerate\u001b[39m(player_coin_idxs):\n",
      "\u001b[36mFile \u001b[39m\u001b[32m~/code/jg/engine/ml/alpha-zero-general/JGGame.py:385\u001b[39m, in \u001b[36mJGGame._getValidMoves.<locals>.add_action\u001b[39m\u001b[34m(skip, src_idx_player, dst_idx, count)\u001b[39m\n\u001b[32m    381\u001b[39m \u001b[38;5;28;01mif\u001b[39;00m src_idx_player > \u001b[32m0b1111\u001b[39m:\n\u001b[32m    382\u001b[39m     \u001b[38;5;66;03m# Hack to prevent invalid moves from being added\u001b[39;00m\n\u001b[32m    383\u001b[39m     \u001b[38;5;66;03m# This should hardly ever happen, but it's a hack\u001b[39;00m\n\u001b[32m    384\u001b[39m     \u001b[38;5;28;01mreturn\u001b[39;00m\n\u001b[32m--> \u001b[39m\u001b[32m385\u001b[39m action = \u001b[43maction_pack\u001b[49m\u001b[43m(\u001b[49m\u001b[43mskip\u001b[49m\u001b[43m,\u001b[49m\u001b[43m \u001b[49m\u001b[43msrc_idx_player\u001b[49m\u001b[43m,\u001b[49m\u001b[43m \u001b[49m\u001b[43mdst_idx\u001b[49m\u001b[43m,\u001b[49m\u001b[43m \u001b[49m\u001b[43mcount\u001b[49m\u001b[43m)\u001b[49m\n\u001b[32m    386\u001b[39m \u001b[38;5;66;03m#self.getNextState(board_arr, player, action)\u001b[39;00m\n\u001b[32m    387\u001b[39m \u001b[38;5;28;01mif\u001b[39;00m dst_idx == PLAYER_CITY_IDXS[-player]:\n",
      "\u001b[36mFile \u001b[39m\u001b[32m~/code/jg/engine/ml/alpha-zero-general/JGGame.py:187\u001b[39m, in \u001b[36maction_pack\u001b[39m\u001b[34m(skip, src_idx_player, dst_idx, count)\u001b[39m\n\u001b[32m    185\u001b[39m \u001b[38;5;28;01massert\u001b[39;00m \u001b[32m0\u001b[39m <= src_idx_player <= \u001b[32m0b1111\u001b[39m, \u001b[33mf\u001b[39m\u001b[33m\"\u001b[39m\u001b[33msrc_idx_player: \u001b[39m\u001b[38;5;132;01m{\u001b[39;00msrc_idx_player\u001b[38;5;132;01m}\u001b[39;00m\u001b[33m\"\u001b[39m\n\u001b[32m    186\u001b[39m \u001b[38;5;28;01massert\u001b[39;00m \u001b[32m0\u001b[39m <= dst_idx <= \u001b[32m0b111100\u001b[39m, \u001b[33mf\u001b[39m\u001b[33m\"\u001b[39m\u001b[33mdst_idx: \u001b[39m\u001b[38;5;132;01m{\u001b[39;00mdst_idx\u001b[38;5;132;01m}\u001b[39;00m\u001b[33m\"\u001b[39m\n\u001b[32m--> \u001b[39m\u001b[32m187\u001b[39m \u001b[38;5;28;01massert\u001b[39;00m \u001b[32m1\u001b[39m <= count <= \u001b[32m0b1111\u001b[39m, \u001b[33mf\u001b[39m\u001b[33m\"\u001b[39m\u001b[33mcount: \u001b[39m\u001b[38;5;132;01m{\u001b[39;00mcount\u001b[38;5;132;01m}\u001b[39;00m\u001b[33m\"\u001b[39m\n\u001b[32m    188\u001b[39m \u001b[38;5;28;01mreturn\u001b[39;00m (\n\u001b[32m    189\u001b[39m    (src_idx_player << \u001b[32m10\u001b[39m) |\n\u001b[32m    190\u001b[39m    (dst_idx << \u001b[32m4\u001b[39m) |\n\u001b[32m    191\u001b[39m    \u001b[38;5;28mint\u001b[39m(count)\n\u001b[32m    192\u001b[39m )\n",
      "\u001b[31mAssertionError\u001b[39m: count: 18"
     ]
    }
   ],
   "source": [
    "import numpy as np\n",
    "\n",
    "\n",
    "board_arr = [  0,  0,  0,  0,  0,  0,  0,  0,  0,  0,  0,  0,  0,  0,  0,  0,  0,\n",
    "        0,  0,  0,  0,  0,  0,  0,  0, -5,  0,  0,  0, -1,  0,  0,  0, -5,\n",
    "       15,  0,  0,  0,  0,  0,  0,  0, -1,  0,  0, -1,  0,  0,  0,  0,  0,\n",
    "        0,  0,  0,  0, -2,  0,  0,  0, -2, -1,  0,  0]\n",
    "m.getActionProb(np.array(board_arr))"
   ]
  },
  {
   "cell_type": "code",
   "execution_count": 6,
   "metadata": {},
   "outputs": [],
   "source": []
  },
  {
   "cell_type": "code",
   "execution_count": null,
   "metadata": {},
   "outputs": [],
   "source": []
  },
  {
   "cell_type": "code",
   "execution_count": 14,
   "metadata": {},
   "outputs": [
    {
     "data": {
      "text/plain": [
       "(True, 0, 0, 0)"
      ]
     },
     "execution_count": 14,
     "metadata": {},
     "output_type": "execute_result"
    }
   ],
   "source": [
    "import JGGame\n",
    "\n",
    "JGGame.PLAYER_STARTING_IDXS\n",
    "\n",
    "for src_idx_player in range(0b1111 + 1):\n",
    "    for dst_idx in range(0b111100 + 1):\n",
    "        for count in range(1, 0b1111 + 1):\n",
    "            packed = JGGame.action_pack(False, src_idx_player, dst_idx, count)\n",
    "            unpacked = JGGame.action_unpack(packed)\n",
    "            assert not unpacked[0]\n",
    "            assert unpacked[1] == src_idx_player\n",
    "            assert unpacked[2] == dst_idx\n",
    "            assert unpacked[3] == count\n",
    "\n",
    "JGGame.action_unpack(JGGame.action_pack(True, 0, 10, 3))"
   ]
  },
  {
   "cell_type": "code",
   "execution_count": 17,
   "metadata": {},
   "outputs": [
    {
     "data": {
      "text/plain": [
       "array([False,  True,  True, ..., False, False, False])"
      ]
     },
     "execution_count": 17,
     "metadata": {},
     "output_type": "execute_result"
    }
   ],
   "source": [
    "game = JGGame.JGGame()\n",
    "\n",
    "board = game.getInitBoard()\n",
    "game.getValidMoves(board, 1)"
   ]
  },
  {
   "cell_type": "code",
   "execution_count": 24,
   "metadata": {},
   "outputs": [
    {
     "data": {
      "text/plain": [
       "array([[0, 0],\n",
       "       [0, 0],\n",
       "       [0, 0],\n",
       "       [0, 0],\n",
       "       [0, 0],\n",
       "       [0, 0],\n",
       "       [0, 0],\n",
       "       [0, 0],\n",
       "       [0, 0],\n",
       "       [0, 0],\n",
       "       [0, 3],\n",
       "       [0, 0],\n",
       "       [0, 0],\n",
       "       [0, 0],\n",
       "       [0, 0]], dtype=int8)"
      ]
     },
     "execution_count": 24,
     "metadata": {},
     "output_type": "execute_result"
    }
   ],
   "source": [
    "game = JGGame.JGGame()\n",
    "\n",
    "board = game.getInitBoard()\n",
    "board = game.getNextState(board, 1, JGGame.action_pack(False, 0, 10, 3))[0]\n",
    "board[:15]"
   ]
  }
 ],
 "metadata": {
  "kernelspec": {
   "display_name": "Python 3",
   "language": "python",
   "name": "python3"
  },
  "language_info": {
   "codemirror_mode": {
    "name": "ipython",
    "version": 3
   },
   "file_extension": ".py",
   "mimetype": "text/x-python",
   "name": "python",
   "nbconvert_exporter": "python",
   "pygments_lexer": "ipython3",
   "version": "3.12.8"
  }
 },
 "nbformat": 4,
 "nbformat_minor": 2
}
