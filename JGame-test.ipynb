{
 "cells": [
  {
   "cell_type": "code",
   "execution_count": 1,
   "metadata": {},
   "outputs": [],
   "source": [
    "%load_ext autoreload\n",
    "%autoreload 2"
   ]
  },
  {
   "cell_type": "code",
   "execution_count": 14,
   "metadata": {},
   "outputs": [
    {
     "data": {
      "text/plain": [
       "(True, 0, 0, 0)"
      ]
     },
     "execution_count": 14,
     "metadata": {},
     "output_type": "execute_result"
    }
   ],
   "source": [
    "import JGGame\n",
    "\n",
    "JGGame.PLAYER_STARTING_IDXS\n",
    "\n",
    "for src_idx_player in range(0b1111 + 1):\n",
    "    for dst_idx in range(0b111100 + 1):\n",
    "        for count in range(1, 0b1111 + 1):\n",
    "            packed = JGGame.action_pack(False, src_idx_player, dst_idx, count)\n",
    "            unpacked = JGGame.action_unpack(packed)\n",
    "            assert not unpacked[0]\n",
    "            assert unpacked[1] == src_idx_player\n",
    "            assert unpacked[2] == dst_idx\n",
    "            assert unpacked[3] == count\n",
    "\n",
    "JGGame.action_unpack(JGGame.action_pack(True, 0, 10, 3))"
   ]
  },
  {
   "cell_type": "code",
   "execution_count": 17,
   "metadata": {},
   "outputs": [
    {
     "data": {
      "text/plain": [
       "array([False,  True,  True, ..., False, False, False])"
      ]
     },
     "execution_count": 17,
     "metadata": {},
     "output_type": "execute_result"
    }
   ],
   "source": [
    "game = JGGame.JGGame()\n",
    "\n",
    "board = game.getInitBoard()\n",
    "game.getValidMoves(board, 1)"
   ]
  },
  {
   "cell_type": "code",
   "execution_count": 24,
   "metadata": {},
   "outputs": [
    {
     "data": {
      "text/plain": [
       "array([[0, 0],\n",
       "       [0, 0],\n",
       "       [0, 0],\n",
       "       [0, 0],\n",
       "       [0, 0],\n",
       "       [0, 0],\n",
       "       [0, 0],\n",
       "       [0, 0],\n",
       "       [0, 0],\n",
       "       [0, 0],\n",
       "       [0, 3],\n",
       "       [0, 0],\n",
       "       [0, 0],\n",
       "       [0, 0],\n",
       "       [0, 0]], dtype=int8)"
      ]
     },
     "execution_count": 24,
     "metadata": {},
     "output_type": "execute_result"
    }
   ],
   "source": [
    "game = JGGame.JGGame()\n",
    "\n",
    "board = game.getInitBoard()\n",
    "board = game.getNextState(board, 1, JGGame.action_pack(False, 0, 10, 3))[0]\n",
    "board[:15]"
   ]
  }
 ],
 "metadata": {
  "kernelspec": {
   "display_name": "Python 3",
   "language": "python",
   "name": "python3"
  },
  "language_info": {
   "codemirror_mode": {
    "name": "ipython",
    "version": 3
   },
   "file_extension": ".py",
   "mimetype": "text/x-python",
   "name": "python",
   "nbconvert_exporter": "python",
   "pygments_lexer": "ipython3",
   "version": "3.12.8"
  }
 },
 "nbformat": 4,
 "nbformat_minor": 2
}
