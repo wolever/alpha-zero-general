{
 "cells": [
  {
   "cell_type": "code",
   "execution_count": 2,
   "metadata": {},
   "outputs": [
    {
     "name": "stdout",
     "output_type": "stream",
     "text": [
      "The autoreload extension is already loaded. To reload it, use:\n",
      "  %reload_ext autoreload\n"
     ]
    }
   ],
   "source": [
    "%load_ext autoreload\n",
    "%autoreload 2"
   ]
  },
  {
   "cell_type": "code",
   "execution_count": 3,
   "metadata": {},
   "outputs": [
    {
     "data": {
      "text/plain": [
       "[]"
      ]
     },
     "execution_count": 3,
     "metadata": {},
     "output_type": "execute_result"
    }
   ],
   "source": [
    "import JGGame\n",
    "\n",
    "board_arr = [  0,  0,  0,  0,  0,  0,  0,  0,  0,  0,  0,  0,  0,  0,  0,  0,  0,\n",
    "        0,  0,  0,  0,  0,  0,  0,  0, -5,  0,  0,  0, -1,  0,  0,  0, -5,\n",
    "       18,  0,  0,  0,  0,  0,  0,  0, -1,  0,  0, -1,  0,  0,  0,  0,  0,\n",
    "        0,  0,  0,  0, -2,  0,  0,  0, -2, -1,  0,  0]\n",
    "\n",
    "JGGame.flood_fill(board_arr, 0, 34, 10)"
   ]
  },
  {
   "cell_type": "code",
   "execution_count": 7,
   "metadata": {},
   "outputs": [
    {
     "data": {
      "text/plain": [
       "(4, 0)"
      ]
     },
     "execution_count": 7,
     "metadata": {},
     "output_type": "execute_result"
    }
   ],
   "source": [
    "JGGame.ix_to_ax[34]"
   ]
  },
  {
   "cell_type": "code",
   "execution_count": 14,
   "metadata": {},
   "outputs": [
    {
     "name": "stdout",
     "output_type": "stream",
     "text": [
      "    _ _ _ _ _ \n",
      "   _ _ _ _ _ _ \n",
      "  _ _ _ _ _ _ _ \n",
      " _ _ _ _ _ _ _ \u001b[34m5\u001b[0m \n",
      "_ _ _ \u001b[34m1\u001b[0m _ _ _ \u001b[34m5\u001b[0m \u001b[31m18\u001b[0m \n",
      " _ _ _ _ _ _ _ \u001b[34m1\u001b[0m \n",
      "  _ _ \u001b[34m1\u001b[0m _ _ _ _ \n",
      "   _ _ _ _ _ \u001b[34m2\u001b[0m \n",
      "    _ _ _ \u001b[34m2\u001b[0m \u001b[34m1\u001b[0m \n",
      "Player 1: 0\n",
      "Player 2: 0\n",
      "Visiting 34: 18\n",
      "Visiting 42: -1\n",
      "Visiting 33: -5\n"
     ]
    },
    {
     "data": {
      "text/plain": [
       "[42, 33]"
      ]
     },
     "execution_count": 14,
     "metadata": {},
     "output_type": "execute_result"
    }
   ],
   "source": [
    "def adjacent_idxs(idx: int, player_idx: int):\n",
    "    q, r = JGGame.ix_to_ax[idx]\n",
    "    adj_coords = [\n",
    "        ((q + 1, r), True),\n",
    "        ((q - 1, r), True),\n",
    "        ((q, r + 1), player_idx == 1),\n",
    "        ((q, r - 1), player_idx == 0),\n",
    "        ((q + 1, r + 1), player_idx == 1),\n",
    "        ((q - 1, r - 1), player_idx == 0),\n",
    "    ]\n",
    "    res = []\n",
    "    for coord, valid in adj_coords:\n",
    "        if not valid:\n",
    "            continue\n",
    "        idx = JGGame.ax_to_ix.get(coord)\n",
    "        if idx is None:\n",
    "            continue\n",
    "        if idx == JGGame.PLAYER_IDX_CITY_IDXS[player_idx]:\n",
    "            continue\n",
    "        res.append(idx)\n",
    "    return res\n",
    "\n",
    "def flood_fill(board, player_idx: int, start_idx: int, count: int):\n",
    "    valid_moves = []\n",
    "    # Players can't move coins into their own city\n",
    "    visited = set([JGGame.PLAYER_IDX_CITY_IDXS[player_idx]])\n",
    "    queue = [(start_idx, count, True)]\n",
    "    while queue:\n",
    "        idx, count, is_first = queue.pop()\n",
    "        if idx in visited:\n",
    "            print(f\"Already visited {idx}\")\n",
    "            continue\n",
    "        visited.add(idx)\n",
    "\n",
    "        print(f\"Visiting {idx}: {board[idx]}\")\n",
    "        if board[idx] <= 0:\n",
    "            # If the tile is empty or owned by the opponent, it's a valid move\n",
    "            valid_moves.append(idx)\n",
    "\n",
    "        # Continue moving if:\n",
    "        # - count > 0, and\n",
    "        # - the current tile is empty\n",
    "        if count > 0 and (is_first or board[idx] == 0):\n",
    "            queue.extend(\n",
    "                (adj_idx, count - 1, False)\n",
    "                for adj_idx in adjacent_idxs(idx, player_idx)\n",
    "                if adj_idx not in visited\n",
    "            )\n",
    "\n",
    "    return valid_moves\n",
    "\n",
    "b = JGGame.Board(board_arr)\n",
    "\n",
    "b.display()\n",
    "\n",
    "flood_fill(board_arr, 0, 34, 10)"
   ]
  },
  {
   "cell_type": "code",
   "execution_count": 14,
   "metadata": {},
   "outputs": [
    {
     "data": {
      "text/plain": [
       "(True, 0, 0, 0)"
      ]
     },
     "execution_count": 14,
     "metadata": {},
     "output_type": "execute_result"
    }
   ],
   "source": [
    "import JGGame\n",
    "\n",
    "JGGame.PLAYER_STARTING_IDXS\n",
    "\n",
    "for src_idx_player in range(0b1111 + 1):\n",
    "    for dst_idx in range(0b111100 + 1):\n",
    "        for count in range(1, 0b1111 + 1):\n",
    "            packed = JGGame.action_pack(False, src_idx_player, dst_idx, count)\n",
    "            unpacked = JGGame.action_unpack(packed)\n",
    "            assert not unpacked[0]\n",
    "            assert unpacked[1] == src_idx_player\n",
    "            assert unpacked[2] == dst_idx\n",
    "            assert unpacked[3] == count\n",
    "\n",
    "JGGame.action_unpack(JGGame.action_pack(True, 0, 10, 3))"
   ]
  },
  {
   "cell_type": "code",
   "execution_count": 17,
   "metadata": {},
   "outputs": [
    {
     "data": {
      "text/plain": [
       "array([False,  True,  True, ..., False, False, False])"
      ]
     },
     "execution_count": 17,
     "metadata": {},
     "output_type": "execute_result"
    }
   ],
   "source": [
    "game = JGGame.JGGame()\n",
    "\n",
    "board = game.getInitBoard()\n",
    "game.getValidMoves(board, 1)"
   ]
  },
  {
   "cell_type": "code",
   "execution_count": 24,
   "metadata": {},
   "outputs": [
    {
     "data": {
      "text/plain": [
       "array([[0, 0],\n",
       "       [0, 0],\n",
       "       [0, 0],\n",
       "       [0, 0],\n",
       "       [0, 0],\n",
       "       [0, 0],\n",
       "       [0, 0],\n",
       "       [0, 0],\n",
       "       [0, 0],\n",
       "       [0, 0],\n",
       "       [0, 3],\n",
       "       [0, 0],\n",
       "       [0, 0],\n",
       "       [0, 0],\n",
       "       [0, 0]], dtype=int8)"
      ]
     },
     "execution_count": 24,
     "metadata": {},
     "output_type": "execute_result"
    }
   ],
   "source": [
    "game = JGGame.JGGame()\n",
    "\n",
    "board = game.getInitBoard()\n",
    "board = game.getNextState(board, 1, JGGame.action_pack(False, 0, 10, 3))[0]\n",
    "board[:15]"
   ]
  }
 ],
 "metadata": {
  "kernelspec": {
   "display_name": "Python 3",
   "language": "python",
   "name": "python3"
  },
  "language_info": {
   "codemirror_mode": {
    "name": "ipython",
    "version": 3
   },
   "file_extension": ".py",
   "mimetype": "text/x-python",
   "name": "python",
   "nbconvert_exporter": "python",
   "pygments_lexer": "ipython3",
   "version": "3.12.8"
  }
 },
 "nbformat": 4,
 "nbformat_minor": 2
}
