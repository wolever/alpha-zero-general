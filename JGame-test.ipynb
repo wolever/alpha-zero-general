{
 "cells": [
  {
   "cell_type": "code",
   "execution_count": 1,
   "metadata": {},
   "outputs": [],
   "source": [
    "%load_ext autoreload\n",
    "%autoreload 2"
   ]
  },
  {
   "cell_type": "code",
   "execution_count": 14,
   "metadata": {},
   "outputs": [
    {
     "name": "stdout",
     "output_type": "stream",
     "text": [
      "                   0/60    1/59    2/58    3/57    4/56 \n",
      "               5/55    6/54    7/53    8/52    9/51   10/50 \n",
      "          11/49   12/48   13/47   14/46   15/45   16/44   17/43 \n",
      "      18/42   19/41   20/40   21/39   22/38   23/37   24/36   25/35 \n",
      "  26/34   27/33   28/32   29/31   30/30   31/29   32/28   33/27   34/26 \n",
      "      35/25   36/24   37/23   38/22   39/21   40/20   41/19   42/18 \n",
      "          43/17   44/16   45/15   46/14   47/13   48/12   49/11 \n",
      "              50/10   51/ 9   52/ 8   53/ 7   54/ 6   55/ 5 \n",
      "                  56/ 4   57/ 3   58/ 2   59/ 1   60/ 0 \n"
     ]
    }
   ],
   "source": [
    "import JGGame\n",
    "JGGame._print_board_iter((f\"  {idx:2d}/{JGGame.ix_flip_map[idx]:2d} \" for idx in JGGame.ix_to_ax), width=4)"
   ]
  },
  {
   "cell_type": "code",
   "execution_count": 12,
   "metadata": {},
   "outputs": [
    {
     "data": {
      "text/plain": [
       "[42, 33]"
      ]
     },
     "execution_count": 12,
     "metadata": {},
     "output_type": "execute_result"
    }
   ],
   "source": [
    "import JGGame\n",
    "\n",
    "board_arr = [  0,  0,  0,  0,  0,  0,  0,  0,  0,  0,  0,  0,  0,  0,  0,  0,  0,\n",
    "        0,  0,  0,  0,  0,  0,  0,  0, -5,  0,  0,  0, -1,  0,  0,  0, -5,\n",
    "       18,  0,  0,  0,  0,  0,  0,  0, -1,  0,  0, -1,  0,  0,  0,  0,  0,\n",
    "        0,  0,  0,  0, -2,  0,  0,  0, -2, -1,  0,  0]\n",
    "\n",
    "JGGame.flood_fill(board_arr, 0, 34, 10)"
   ]
  },
  {
   "cell_type": "code",
   "execution_count": 7,
   "metadata": {},
   "outputs": [
    {
     "data": {
      "text/plain": [
       "(4, 0)"
      ]
     },
     "execution_count": 7,
     "metadata": {},
     "output_type": "execute_result"
    }
   ],
   "source": [
    "JGGame.ix_to_ax[34]"
   ]
  },
  {
   "cell_type": "code",
   "execution_count": 14,
   "metadata": {},
   "outputs": [
    {
     "name": "stdout",
     "output_type": "stream",
     "text": [
      "    _ _ _ _ _ \n",
      "   _ _ _ _ _ _ \n",
      "  _ _ _ _ _ _ _ \n",
      " _ _ _ _ _ _ _ \u001b[34m5\u001b[0m \n",
      "_ _ _ \u001b[34m1\u001b[0m _ _ _ \u001b[34m5\u001b[0m \u001b[31m18\u001b[0m \n",
      " _ _ _ _ _ _ _ \u001b[34m1\u001b[0m \n",
      "  _ _ \u001b[34m1\u001b[0m _ _ _ _ \n",
      "   _ _ _ _ _ \u001b[34m2\u001b[0m \n",
      "    _ _ _ \u001b[34m2\u001b[0m \u001b[34m1\u001b[0m \n",
      "Player 1: 0\n",
      "Player 2: 0\n",
      "Visiting 34: 18\n",
      "Visiting 42: -1\n",
      "Visiting 33: -5\n"
     ]
    },
    {
     "data": {
      "text/plain": [
       "[42, 33]"
      ]
     },
     "execution_count": 14,
     "metadata": {},
     "output_type": "execute_result"
    }
   ],
   "source": [
    "def adjacent_idxs(idx: int, player_idx: int):\n",
    "    q, r = JGGame.ix_to_ax[idx]\n",
    "    adj_coords = [\n",
    "        ((q + 1, r), True),\n",
    "        ((q - 1, r), True),\n",
    "        ((q, r + 1), player_idx == 1),\n",
    "        ((q, r - 1), player_idx == 0),\n",
    "        ((q + 1, r + 1), player_idx == 1),\n",
    "        ((q - 1, r - 1), player_idx == 0),\n",
    "    ]\n",
    "    res = []\n",
    "    for coord, valid in adj_coords:\n",
    "        if not valid:\n",
    "            continue\n",
    "        idx = JGGame.ax_to_ix.get(coord)\n",
    "        if idx is None:\n",
    "            continue\n",
    "        if idx == JGGame.PLAYER_IDX_CITY_IDXS[player_idx]:\n",
    "            continue\n",
    "        res.append(idx)\n",
    "    return res\n",
    "\n",
    "def flood_fill(board, player_idx: int, start_idx: int, count: int):\n",
    "    valid_moves = []\n",
    "    # Players can't move coins into their own city\n",
    "    visited = set([JGGame.PLAYER_IDX_CITY_IDXS[player_idx]])\n",
    "    queue = [(start_idx, count, True)]\n",
    "    while queue:\n",
    "        idx, count, is_first = queue.pop()\n",
    "        if idx in visited:\n",
    "            print(f\"Already visited {idx}\")\n",
    "            continue\n",
    "        visited.add(idx)\n",
    "\n",
    "        print(f\"Visiting {idx}: {board[idx]}\")\n",
    "        if board[idx] <= 0:\n",
    "            # If the tile is empty or owned by the opponent, it's a valid move\n",
    "            valid_moves.append(idx)\n",
    "\n",
    "        # Continue moving if:\n",
    "        # - count > 0, and\n",
    "        # - the current tile is empty\n",
    "        if count > 0 and (is_first or board[idx] == 0):\n",
    "            queue.extend(\n",
    "                (adj_idx, count - 1, False)\n",
    "                for adj_idx in adjacent_idxs(idx, player_idx)\n",
    "                if adj_idx not in visited\n",
    "            )\n",
    "\n",
    "    return valid_moves\n",
    "\n",
    "b = JGGame.Board(board_arr)\n",
    "\n",
    "b.display()\n",
    "\n",
    "flood_fill(board_arr, 0, 34, 10)"
   ]
  },
  {
   "cell_type": "code",
   "execution_count": 8,
   "metadata": {},
   "outputs": [],
   "source": [
    "from utils import dotdict\n",
    "\n",
    "args = dotdict({\n",
    "    'numIters': 1000,\n",
    "    'numEps': 50,              # Number of complete self-play games to simulate during a new iteration.\n",
    "    #'numIters': 1000,\n",
    "    #'numEps': 1,               # Number of complete self-play games to simulate during a new iteration.\n",
    "    'tempThreshold': 15,        #\n",
    "    'updateThreshold': 0.6,     # During arena playoff, new neural net will be accepted if threshold or more of games are won.\n",
    "    'maxlenOfQueue': 200000,    # Number of game examples to train the neural networks.\n",
    "    #'numMCTSSims': 25,          # Number of games moves for MCTS to simulate.\n",
    "    'numMCTSSims': 25,          # Number of games moves for MCTS to simulate.\n",
    "    'arenaCompare':  20,        # Number of games to play during arena play to determine if new net will be accepted.\n",
    "    'cpuct': 1,\n",
    "\n",
    "    'checkpoint': f'./checkpoints-JGGame/',\n",
    "    'load_model': False,\n",
    "    'load_folder_file': 'best.pth.tar',\n",
    "    'numItersForTrainExamplesHistory': 20,\n",
    "\n",
    "})"
   ]
  },
  {
   "cell_type": "code",
   "execution_count": 10,
   "metadata": {},
   "outputs": [],
   "source": [
    "import JGGame\n",
    "from JGNet import NNetWrapper\n",
    "from MCTS import MCTS\n",
    "\n",
    "game = JGGame.JGGame()\n",
    "\n",
    "x = NNetWrapper(game)\n",
    "x.load_checkpoint('./checkpoints-JGGame/best.pth.tar')\n",
    "m = MCTS(game, x, args)"
   ]
  },
  {
   "cell_type": "code",
   "execution_count": 26,
   "metadata": {},
   "outputs": [
    {
     "name": "stdout",
     "output_type": "stream",
     "text": [
      "    _ _ _ _ _ \n",
      "   _ _ _ _ _ _ \n",
      "  _ _ _ _ _ _ _ \n",
      " _ _ _ _ _ _ _ \u001b[34m5\u001b[0m \n",
      "_ _ _ \u001b[34m1\u001b[0m _ _ _ \u001b[34m5\u001b[0m \u001b[31m15\u001b[0m \n",
      " _ _ _ _ _ _ _ \u001b[34m1\u001b[0m \n",
      "  _ _ \u001b[34m1\u001b[0m _ _ _ _ \n",
      "   _ _ _ _ _ \u001b[34m2\u001b[0m \n",
      "    _ _ _ \u001b[34m2\u001b[0m \u001b[34m1\u001b[0m \n",
      "Player 1: 0\n",
      "Player 2: 0\n",
      "[543 687]\n",
      "[(False, 0, 33, 15), (False, 0, 42, 15)]\n",
      "[0.43430657 0.56569343]\n",
      "    _ _ _ _ _ \n",
      "   _ _ _ _ _ _ \n",
      "  _ _ _ _ _ _ _ \n",
      " _ _ _ _ _ _ _ \u001b[34m5\u001b[0m \n",
      "_ _ _ \u001b[34m1\u001b[0m _ _ _ \u001b[34m5\u001b[0m _ \n",
      " _ _ _ _ _ _ _ \u001b[31m15\u001b[0m \n",
      "  _ _ \u001b[34m1\u001b[0m _ _ _ _ \n",
      "   _ _ _ _ _ \u001b[34m2\u001b[0m \n",
      "    _ _ _ \u001b[34m2\u001b[0m \u001b[34m1\u001b[0m \n",
      "Player 1: 0\n",
      "Player 2: 0\n"
     ]
    }
   ],
   "source": [
    "import numpy as np\n",
    "from JGGame import action_unpack\n",
    "\n",
    "\n",
    "board_arr = np.array([  0,  0,  0,  0,  0,  0,  0,  0,  0,  0,  0,  0,  0,  0,  0,  0,  0,\n",
    "        0,  0,  0,  0,  0,  0,  0,  0, -5,  0,  0,  0, -1,  0,  0,  0, -5,\n",
    "       15,  0,  0,  0,  0,  0,  0,  0, -1,  0,  0, -1,  0,  0,  0,  0,  0,\n",
    "        0,  0,  0,  0, -2,  0,  0,  0, -2, -1,  0,  0])\n",
    "\n",
    "game.display(board_arr)\n",
    "\n",
    "a_probs = np.array(m.getActionProb(np.array(board_arr)))\n",
    "a_where = np.where(a_probs)[0].astype(np.int32)\n",
    "print(a_where)\n",
    "print([action_unpack(a) for a in a_where])\n",
    "print(a_probs[a_where])\n",
    "\n",
    "board2 = game.getNextState(\n",
    "  game.getCanonicalForm(board_arr, 1),\n",
    "  1,\n",
    "  687,\n",
    ")[0]\n",
    "game.display(board2)"
   ]
  },
  {
   "cell_type": "code",
   "execution_count": 6,
   "metadata": {},
   "outputs": [],
   "source": []
  },
  {
   "cell_type": "code",
   "execution_count": null,
   "metadata": {},
   "outputs": [],
   "source": []
  },
  {
   "cell_type": "code",
   "execution_count": 14,
   "metadata": {},
   "outputs": [
    {
     "data": {
      "text/plain": [
       "(True, 0, 0, 0)"
      ]
     },
     "execution_count": 14,
     "metadata": {},
     "output_type": "execute_result"
    }
   ],
   "source": [
    "import JGGame\n",
    "\n",
    "JGGame.PLAYER_STARTING_IDXS\n",
    "\n",
    "for src_idx_player in range(0b1111 + 1):\n",
    "    for dst_idx in range(0b111100 + 1):\n",
    "        for count in range(1, 0b1111 + 1):\n",
    "            packed = JGGame.action_pack(False, src_idx_player, dst_idx, count)\n",
    "            unpacked = JGGame.action_unpack(packed)\n",
    "            assert not unpacked[0]\n",
    "            assert unpacked[1] == src_idx_player\n",
    "            assert unpacked[2] == dst_idx\n",
    "            assert unpacked[3] == count\n",
    "\n",
    "JGGame.action_unpack(JGGame.action_pack(True, 0, 10, 3))"
   ]
  },
  {
   "cell_type": "code",
   "execution_count": 17,
   "metadata": {},
   "outputs": [
    {
     "data": {
      "text/plain": [
       "array([False,  True,  True, ..., False, False, False])"
      ]
     },
     "execution_count": 17,
     "metadata": {},
     "output_type": "execute_result"
    }
   ],
   "source": [
    "game = JGGame.JGGame()\n",
    "\n",
    "board = game.getInitBoard()\n",
    "game.getValidMoves(board, 1)"
   ]
  },
  {
   "cell_type": "code",
   "execution_count": 24,
   "metadata": {},
   "outputs": [
    {
     "data": {
      "text/plain": [
       "array([[0, 0],\n",
       "       [0, 0],\n",
       "       [0, 0],\n",
       "       [0, 0],\n",
       "       [0, 0],\n",
       "       [0, 0],\n",
       "       [0, 0],\n",
       "       [0, 0],\n",
       "       [0, 0],\n",
       "       [0, 0],\n",
       "       [0, 3],\n",
       "       [0, 0],\n",
       "       [0, 0],\n",
       "       [0, 0],\n",
       "       [0, 0]], dtype=int8)"
      ]
     },
     "execution_count": 24,
     "metadata": {},
     "output_type": "execute_result"
    }
   ],
   "source": [
    "game = JGGame.JGGame()\n",
    "\n",
    "board = game.getInitBoard()\n",
    "board = game.getNextState(board, 1, JGGame.action_pack(False, 0, 10, 3))[0]\n",
    "board[:15]"
   ]
  }
 ],
 "metadata": {
  "kernelspec": {
   "display_name": ".venv",
   "language": "python",
   "name": "python3"
  },
  "language_info": {
   "codemirror_mode": {
    "name": "ipython",
    "version": 3
   },
   "file_extension": ".py",
   "mimetype": "text/x-python",
   "name": "python",
   "nbconvert_exporter": "python",
   "pygments_lexer": "ipython3",
   "version": "3.12.6"
  }
 },
 "nbformat": 4,
 "nbformat_minor": 2
}
